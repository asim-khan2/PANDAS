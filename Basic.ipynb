{
 "cells": [
  {
   "cell_type": "markdown",
   "id": "050884fc-ab54-4081-bdf0-b0330b3be040",
   "metadata": {},
   "source": [
    "### pandas basic  "
   ]
  },
  {
   "cell_type": "code",
   "execution_count": 1,
   "id": "a65c6874-770c-4664-b08b-ba37e814c3b9",
   "metadata": {},
   "outputs": [],
   "source": [
    "import pandas as pd\n",
    "import numpy as np"
   ]
  },
  {
   "cell_type": "code",
   "execution_count": 2,
   "id": "df6f9d38-b67a-4645-a147-c8520ce4739a",
   "metadata": {},
   "outputs": [],
   "source": [
    "dict1 = {\n",
    "    \"Name\" : [\"Asim\", \"Najim\", \"Salim\", \"Faizan\"],\n",
    "    \"Marks\" : [80, 90, 85, 70],\n",
    "    \"City\" : [\"Amroha\", \"Moradabad\", \"Delhi\", \"Meerut\"]\n",
    "}"
   ]
  },
  {
   "cell_type": "markdown",
   "id": "bbf9e0a2-bdc6-4a68-990e-529ad1eda5bc",
   "metadata": {},
   "source": [
    "### how to make data frame "
   ]
  },
  {
   "cell_type": "code",
   "execution_count": 3,
   "id": "6fb9bd50-540c-4124-bfbe-edfb49d87b00",
   "metadata": {},
   "outputs": [],
   "source": [
    "df = pd.DataFrame(dict1)"
   ]
  },
  {
   "cell_type": "code",
   "execution_count": 4,
   "id": "0e2efe38-142d-4451-b59f-491f7a82ad07",
   "metadata": {},
   "outputs": [
    {
     "data": {
      "text/html": [
       "<div>\n",
       "<style scoped>\n",
       "    .dataframe tbody tr th:only-of-type {\n",
       "        vertical-align: middle;\n",
       "    }\n",
       "\n",
       "    .dataframe tbody tr th {\n",
       "        vertical-align: top;\n",
       "    }\n",
       "\n",
       "    .dataframe thead th {\n",
       "        text-align: right;\n",
       "    }\n",
       "</style>\n",
       "<table border=\"1\" class=\"dataframe\">\n",
       "  <thead>\n",
       "    <tr style=\"text-align: right;\">\n",
       "      <th></th>\n",
       "      <th>Name</th>\n",
       "      <th>Marks</th>\n",
       "      <th>City</th>\n",
       "    </tr>\n",
       "  </thead>\n",
       "  <tbody>\n",
       "    <tr>\n",
       "      <th>0</th>\n",
       "      <td>Asim</td>\n",
       "      <td>80</td>\n",
       "      <td>Amroha</td>\n",
       "    </tr>\n",
       "    <tr>\n",
       "      <th>1</th>\n",
       "      <td>Najim</td>\n",
       "      <td>90</td>\n",
       "      <td>Moradabad</td>\n",
       "    </tr>\n",
       "    <tr>\n",
       "      <th>2</th>\n",
       "      <td>Salim</td>\n",
       "      <td>85</td>\n",
       "      <td>Delhi</td>\n",
       "    </tr>\n",
       "    <tr>\n",
       "      <th>3</th>\n",
       "      <td>Faizan</td>\n",
       "      <td>70</td>\n",
       "      <td>Meerut</td>\n",
       "    </tr>\n",
       "  </tbody>\n",
       "</table>\n",
       "</div>"
      ],
      "text/plain": [
       "     Name  Marks       City\n",
       "0    Asim     80     Amroha\n",
       "1   Najim     90  Moradabad\n",
       "2   Salim     85      Delhi\n",
       "3  Faizan     70     Meerut"
      ]
     },
     "execution_count": 4,
     "metadata": {},
     "output_type": "execute_result"
    }
   ],
   "source": [
    "df"
   ]
  },
  {
   "cell_type": "code",
   "execution_count": 5,
   "id": "01fd38ae-8dc9-46f8-a218-aa1be22dcd84",
   "metadata": {},
   "outputs": [],
   "source": [
    "df.to_csv('Data.csv', index=False)"
   ]
  },
  {
   "cell_type": "code",
   "execution_count": 6,
   "id": "b876a94d-5ba5-43e7-8718-7fb570dd7890",
   "metadata": {},
   "outputs": [],
   "source": [
    "df.to_excel('Bro.xlsx')"
   ]
  },
  {
   "cell_type": "code",
   "execution_count": 7,
   "id": "fa1c7849-11aa-4c9b-a705-cd5d811fe049",
   "metadata": {},
   "outputs": [
    {
     "data": {
      "text/html": [
       "<div>\n",
       "<style scoped>\n",
       "    .dataframe tbody tr th:only-of-type {\n",
       "        vertical-align: middle;\n",
       "    }\n",
       "\n",
       "    .dataframe tbody tr th {\n",
       "        vertical-align: top;\n",
       "    }\n",
       "\n",
       "    .dataframe thead th {\n",
       "        text-align: right;\n",
       "    }\n",
       "</style>\n",
       "<table border=\"1\" class=\"dataframe\">\n",
       "  <thead>\n",
       "    <tr style=\"text-align: right;\">\n",
       "      <th></th>\n",
       "      <th>Name</th>\n",
       "      <th>Marks</th>\n",
       "      <th>City</th>\n",
       "    </tr>\n",
       "  </thead>\n",
       "  <tbody>\n",
       "    <tr>\n",
       "      <th>0</th>\n",
       "      <td>Asim</td>\n",
       "      <td>80</td>\n",
       "      <td>Amroha</td>\n",
       "    </tr>\n",
       "    <tr>\n",
       "      <th>1</th>\n",
       "      <td>Najim</td>\n",
       "      <td>90</td>\n",
       "      <td>Moradabad</td>\n",
       "    </tr>\n",
       "  </tbody>\n",
       "</table>\n",
       "</div>"
      ],
      "text/plain": [
       "    Name  Marks       City\n",
       "0   Asim     80     Amroha\n",
       "1  Najim     90  Moradabad"
      ]
     },
     "execution_count": 7,
     "metadata": {},
     "output_type": "execute_result"
    }
   ],
   "source": [
    "df.head(2)"
   ]
  },
  {
   "cell_type": "code",
   "execution_count": 8,
   "id": "cb5a8c18-a27c-4c67-8113-14b863219bdb",
   "metadata": {},
   "outputs": [
    {
     "data": {
      "text/html": [
       "<div>\n",
       "<style scoped>\n",
       "    .dataframe tbody tr th:only-of-type {\n",
       "        vertical-align: middle;\n",
       "    }\n",
       "\n",
       "    .dataframe tbody tr th {\n",
       "        vertical-align: top;\n",
       "    }\n",
       "\n",
       "    .dataframe thead th {\n",
       "        text-align: right;\n",
       "    }\n",
       "</style>\n",
       "<table border=\"1\" class=\"dataframe\">\n",
       "  <thead>\n",
       "    <tr style=\"text-align: right;\">\n",
       "      <th></th>\n",
       "      <th>Name</th>\n",
       "      <th>Marks</th>\n",
       "      <th>City</th>\n",
       "    </tr>\n",
       "  </thead>\n",
       "  <tbody>\n",
       "    <tr>\n",
       "      <th>2</th>\n",
       "      <td>Salim</td>\n",
       "      <td>85</td>\n",
       "      <td>Delhi</td>\n",
       "    </tr>\n",
       "    <tr>\n",
       "      <th>3</th>\n",
       "      <td>Faizan</td>\n",
       "      <td>70</td>\n",
       "      <td>Meerut</td>\n",
       "    </tr>\n",
       "  </tbody>\n",
       "</table>\n",
       "</div>"
      ],
      "text/plain": [
       "     Name  Marks    City\n",
       "2   Salim     85   Delhi\n",
       "3  Faizan     70  Meerut"
      ]
     },
     "execution_count": 8,
     "metadata": {},
     "output_type": "execute_result"
    }
   ],
   "source": [
    "df.tail(2)"
   ]
  },
  {
   "cell_type": "code",
   "execution_count": 9,
   "id": "2a52ccb3-7108-4d20-a76d-8e6bad7fb927",
   "metadata": {},
   "outputs": [
    {
     "data": {
      "text/html": [
       "<div>\n",
       "<style scoped>\n",
       "    .dataframe tbody tr th:only-of-type {\n",
       "        vertical-align: middle;\n",
       "    }\n",
       "\n",
       "    .dataframe tbody tr th {\n",
       "        vertical-align: top;\n",
       "    }\n",
       "\n",
       "    .dataframe thead th {\n",
       "        text-align: right;\n",
       "    }\n",
       "</style>\n",
       "<table border=\"1\" class=\"dataframe\">\n",
       "  <thead>\n",
       "    <tr style=\"text-align: right;\">\n",
       "      <th></th>\n",
       "      <th>Marks</th>\n",
       "    </tr>\n",
       "  </thead>\n",
       "  <tbody>\n",
       "    <tr>\n",
       "      <th>count</th>\n",
       "      <td>4.000000</td>\n",
       "    </tr>\n",
       "    <tr>\n",
       "      <th>mean</th>\n",
       "      <td>81.250000</td>\n",
       "    </tr>\n",
       "    <tr>\n",
       "      <th>std</th>\n",
       "      <td>8.539126</td>\n",
       "    </tr>\n",
       "    <tr>\n",
       "      <th>min</th>\n",
       "      <td>70.000000</td>\n",
       "    </tr>\n",
       "    <tr>\n",
       "      <th>25%</th>\n",
       "      <td>77.500000</td>\n",
       "    </tr>\n",
       "    <tr>\n",
       "      <th>50%</th>\n",
       "      <td>82.500000</td>\n",
       "    </tr>\n",
       "    <tr>\n",
       "      <th>75%</th>\n",
       "      <td>86.250000</td>\n",
       "    </tr>\n",
       "    <tr>\n",
       "      <th>max</th>\n",
       "      <td>90.000000</td>\n",
       "    </tr>\n",
       "  </tbody>\n",
       "</table>\n",
       "</div>"
      ],
      "text/plain": [
       "           Marks\n",
       "count   4.000000\n",
       "mean   81.250000\n",
       "std     8.539126\n",
       "min    70.000000\n",
       "25%    77.500000\n",
       "50%    82.500000\n",
       "75%    86.250000\n",
       "max    90.000000"
      ]
     },
     "execution_count": 9,
     "metadata": {},
     "output_type": "execute_result"
    }
   ],
   "source": [
    "df.describe()"
   ]
  },
  {
   "cell_type": "code",
   "execution_count": 10,
   "id": "949954e0-215f-4857-963f-7813830766af",
   "metadata": {},
   "outputs": [],
   "source": [
    "Asim = pd.read_csv(\"Asim.csv\")"
   ]
  },
  {
   "cell_type": "code",
   "execution_count": 11,
   "id": "0b63ef21-be70-4a3f-b9c5-58a77e121763",
   "metadata": {},
   "outputs": [
    {
     "data": {
      "text/html": [
       "<div>\n",
       "<style scoped>\n",
       "    .dataframe tbody tr th:only-of-type {\n",
       "        vertical-align: middle;\n",
       "    }\n",
       "\n",
       "    .dataframe tbody tr th {\n",
       "        vertical-align: top;\n",
       "    }\n",
       "\n",
       "    .dataframe thead th {\n",
       "        text-align: right;\n",
       "    }\n",
       "</style>\n",
       "<table border=\"1\" class=\"dataframe\">\n",
       "  <thead>\n",
       "    <tr style=\"text-align: right;\">\n",
       "      <th></th>\n",
       "      <th>Train NO.</th>\n",
       "      <th>Speed</th>\n",
       "      <th>City</th>\n",
       "    </tr>\n",
       "  </thead>\n",
       "  <tbody>\n",
       "    <tr>\n",
       "      <th>0</th>\n",
       "      <td>123453</td>\n",
       "      <td>50</td>\n",
       "      <td>Amroha</td>\n",
       "    </tr>\n",
       "    <tr>\n",
       "      <th>1</th>\n",
       "      <td>23412</td>\n",
       "      <td>90</td>\n",
       "      <td>Moradabad</td>\n",
       "    </tr>\n",
       "    <tr>\n",
       "      <th>2</th>\n",
       "      <td>243222</td>\n",
       "      <td>85</td>\n",
       "      <td>Delhi</td>\n",
       "    </tr>\n",
       "    <tr>\n",
       "      <th>3</th>\n",
       "      <td>232322</td>\n",
       "      <td>70</td>\n",
       "      <td>Meerut</td>\n",
       "    </tr>\n",
       "  </tbody>\n",
       "</table>\n",
       "</div>"
      ],
      "text/plain": [
       "   Train NO.  Speed       City\n",
       "0     123453     50     Amroha\n",
       "1      23412     90  Moradabad\n",
       "2     243222     85      Delhi\n",
       "3     232322     70     Meerut"
      ]
     },
     "execution_count": 11,
     "metadata": {},
     "output_type": "execute_result"
    }
   ],
   "source": [
    "Asim"
   ]
  },
  {
   "cell_type": "code",
   "execution_count": 12,
   "id": "0decd443-fcad-4d97-a147-b38eb83744ec",
   "metadata": {},
   "outputs": [
    {
     "name": "stderr",
     "output_type": "stream",
     "text": [
      "C:\\Users\\asimk\\AppData\\Local\\Temp\\ipykernel_11828\\683637805.py:1: FutureWarning: ChainedAssignmentError: behaviour will change in pandas 3.0!\n",
      "You are setting values through chained assignment. Currently this works in certain cases, but when using Copy-on-Write (which will become the default behaviour in pandas 3.0) this will never work to update the original DataFrame or Series, because the intermediate object on which we are setting values will behave as a copy.\n",
      "A typical example is when you are setting values in a column of a DataFrame, like:\n",
      "\n",
      "df[\"col\"][row_indexer] = value\n",
      "\n",
      "Use `df.loc[row_indexer, \"col\"] = values` instead, to perform the assignment in a single step and ensure this keeps updating the original `df`.\n",
      "\n",
      "See the caveats in the documentation: https://pandas.pydata.org/pandas-docs/stable/user_guide/indexing.html#returning-a-view-versus-a-copy\n",
      "\n",
      "  Asim[\"Speed\"][0] = 50\n",
      "C:\\Users\\asimk\\AppData\\Local\\Temp\\ipykernel_11828\\683637805.py:1: SettingWithCopyWarning: \n",
      "A value is trying to be set on a copy of a slice from a DataFrame\n",
      "\n",
      "See the caveats in the documentation: https://pandas.pydata.org/pandas-docs/stable/user_guide/indexing.html#returning-a-view-versus-a-copy\n",
      "  Asim[\"Speed\"][0] = 50\n"
     ]
    }
   ],
   "source": [
    "Asim[\"Speed\"][0] = 50"
   ]
  },
  {
   "cell_type": "code",
   "execution_count": 13,
   "id": "73e391a5-2fae-40b1-b132-c13a602e9ec5",
   "metadata": {},
   "outputs": [
    {
     "data": {
      "text/html": [
       "<div>\n",
       "<style scoped>\n",
       "    .dataframe tbody tr th:only-of-type {\n",
       "        vertical-align: middle;\n",
       "    }\n",
       "\n",
       "    .dataframe tbody tr th {\n",
       "        vertical-align: top;\n",
       "    }\n",
       "\n",
       "    .dataframe thead th {\n",
       "        text-align: right;\n",
       "    }\n",
       "</style>\n",
       "<table border=\"1\" class=\"dataframe\">\n",
       "  <thead>\n",
       "    <tr style=\"text-align: right;\">\n",
       "      <th></th>\n",
       "      <th>Train NO.</th>\n",
       "      <th>Speed</th>\n",
       "      <th>City</th>\n",
       "    </tr>\n",
       "  </thead>\n",
       "  <tbody>\n",
       "    <tr>\n",
       "      <th>0</th>\n",
       "      <td>123453</td>\n",
       "      <td>50</td>\n",
       "      <td>Amroha</td>\n",
       "    </tr>\n",
       "    <tr>\n",
       "      <th>1</th>\n",
       "      <td>23412</td>\n",
       "      <td>90</td>\n",
       "      <td>Moradabad</td>\n",
       "    </tr>\n",
       "    <tr>\n",
       "      <th>2</th>\n",
       "      <td>243222</td>\n",
       "      <td>85</td>\n",
       "      <td>Delhi</td>\n",
       "    </tr>\n",
       "    <tr>\n",
       "      <th>3</th>\n",
       "      <td>232322</td>\n",
       "      <td>70</td>\n",
       "      <td>Meerut</td>\n",
       "    </tr>\n",
       "  </tbody>\n",
       "</table>\n",
       "</div>"
      ],
      "text/plain": [
       "   Train NO.  Speed       City\n",
       "0     123453     50     Amroha\n",
       "1      23412     90  Moradabad\n",
       "2     243222     85      Delhi\n",
       "3     232322     70     Meerut"
      ]
     },
     "execution_count": 13,
     "metadata": {},
     "output_type": "execute_result"
    }
   ],
   "source": [
    "Asim"
   ]
  },
  {
   "cell_type": "code",
   "execution_count": 14,
   "id": "5c109e4c-53be-43a1-a63d-6f50fe2465a7",
   "metadata": {},
   "outputs": [],
   "source": [
    "Asim.to_csv('Asim.csv', index=False)  "
   ]
  },
  {
   "cell_type": "code",
   "execution_count": 15,
   "id": "66903bd7-2add-4a5d-892e-a0b01ac76f60",
   "metadata": {},
   "outputs": [],
   "source": [
    "ser = pd.Series(np.random.rand(34))"
   ]
  },
  {
   "cell_type": "code",
   "execution_count": 16,
   "id": "6936f11f-4e87-4fa6-a9f1-a9d773f142b7",
   "metadata": {},
   "outputs": [
    {
     "data": {
      "text/plain": [
       "0    0.246673\n",
       "1    0.425760\n",
       "2    0.369474\n",
       "3    0.658540\n",
       "4    0.857501\n",
       "dtype: float64"
      ]
     },
     "execution_count": 16,
     "metadata": {},
     "output_type": "execute_result"
    }
   ],
   "source": [
    "ser.head()"
   ]
  },
  {
   "cell_type": "code",
   "execution_count": 17,
   "id": "0fd06269-5e8c-4ae5-8fc7-0f5a10090b02",
   "metadata": {},
   "outputs": [
    {
     "data": {
      "text/plain": [
       "pandas.core.series.Series"
      ]
     },
     "execution_count": 17,
     "metadata": {},
     "output_type": "execute_result"
    }
   ],
   "source": [
    "type(ser)"
   ]
  },
  {
   "cell_type": "code",
   "execution_count": 18,
   "id": "43652084-2abc-402d-9178-5d7a02d3b853",
   "metadata": {},
   "outputs": [],
   "source": [
    "newdf = pd.DataFrame(np.random.rand(334, 5), index=np.arange(334))"
   ]
  },
  {
   "cell_type": "code",
   "execution_count": 19,
   "id": "5f458c9c-5ab4-4425-86af-4db4dbf2c931",
   "metadata": {},
   "outputs": [
    {
     "data": {
      "text/html": [
       "<div>\n",
       "<style scoped>\n",
       "    .dataframe tbody tr th:only-of-type {\n",
       "        vertical-align: middle;\n",
       "    }\n",
       "\n",
       "    .dataframe tbody tr th {\n",
       "        vertical-align: top;\n",
       "    }\n",
       "\n",
       "    .dataframe thead th {\n",
       "        text-align: right;\n",
       "    }\n",
       "</style>\n",
       "<table border=\"1\" class=\"dataframe\">\n",
       "  <thead>\n",
       "    <tr style=\"text-align: right;\">\n",
       "      <th></th>\n",
       "      <th>0</th>\n",
       "      <th>1</th>\n",
       "      <th>2</th>\n",
       "      <th>3</th>\n",
       "      <th>4</th>\n",
       "    </tr>\n",
       "  </thead>\n",
       "  <tbody>\n",
       "    <tr>\n",
       "      <th>0</th>\n",
       "      <td>0.801772</td>\n",
       "      <td>0.340458</td>\n",
       "      <td>0.528354</td>\n",
       "      <td>0.086867</td>\n",
       "      <td>0.792700</td>\n",
       "    </tr>\n",
       "    <tr>\n",
       "      <th>1</th>\n",
       "      <td>0.682802</td>\n",
       "      <td>0.260730</td>\n",
       "      <td>0.231797</td>\n",
       "      <td>0.678429</td>\n",
       "      <td>0.125358</td>\n",
       "    </tr>\n",
       "    <tr>\n",
       "      <th>2</th>\n",
       "      <td>0.100771</td>\n",
       "      <td>0.609212</td>\n",
       "      <td>0.483404</td>\n",
       "      <td>0.766376</td>\n",
       "      <td>0.204006</td>\n",
       "    </tr>\n",
       "    <tr>\n",
       "      <th>3</th>\n",
       "      <td>0.738176</td>\n",
       "      <td>0.080914</td>\n",
       "      <td>0.126878</td>\n",
       "      <td>0.520685</td>\n",
       "      <td>0.442061</td>\n",
       "    </tr>\n",
       "    <tr>\n",
       "      <th>4</th>\n",
       "      <td>0.552064</td>\n",
       "      <td>0.043520</td>\n",
       "      <td>0.778963</td>\n",
       "      <td>0.120532</td>\n",
       "      <td>0.690354</td>\n",
       "    </tr>\n",
       "  </tbody>\n",
       "</table>\n",
       "</div>"
      ],
      "text/plain": [
       "          0         1         2         3         4\n",
       "0  0.801772  0.340458  0.528354  0.086867  0.792700\n",
       "1  0.682802  0.260730  0.231797  0.678429  0.125358\n",
       "2  0.100771  0.609212  0.483404  0.766376  0.204006\n",
       "3  0.738176  0.080914  0.126878  0.520685  0.442061\n",
       "4  0.552064  0.043520  0.778963  0.120532  0.690354"
      ]
     },
     "execution_count": 19,
     "metadata": {},
     "output_type": "execute_result"
    }
   ],
   "source": [
    "newdf.head(5)"
   ]
  },
  {
   "cell_type": "code",
   "execution_count": 20,
   "id": "3ddbda05-3c28-4019-8ae9-64eb1c9e769b",
   "metadata": {},
   "outputs": [
    {
     "data": {
      "text/plain": [
       "pandas.core.frame.DataFrame"
      ]
     },
     "execution_count": 20,
     "metadata": {},
     "output_type": "execute_result"
    }
   ],
   "source": [
    "type(newdf)"
   ]
  },
  {
   "cell_type": "code",
   "execution_count": 21,
   "id": "395a9377-c1b8-4970-90ea-e3ae85590e24",
   "metadata": {},
   "outputs": [],
   "source": [
    "newdf.to_csv(\"Data1.csv\", index=False)"
   ]
  },
  {
   "cell_type": "code",
   "execution_count": 22,
   "id": "9d6321da-f1fe-4333-831e-dcd306ff7dc3",
   "metadata": {},
   "outputs": [
    {
     "data": {
      "text/plain": [
       "0    float64\n",
       "1    float64\n",
       "2    float64\n",
       "3    float64\n",
       "4    float64\n",
       "dtype: object"
      ]
     },
     "execution_count": 22,
     "metadata": {},
     "output_type": "execute_result"
    }
   ],
   "source": [
    "newdf.dtypes"
   ]
  },
  {
   "cell_type": "code",
   "execution_count": 23,
   "id": "4220878c-a646-46f9-b9e8-33a037a95520",
   "metadata": {},
   "outputs": [
    {
     "data": {
      "text/html": [
       "<div>\n",
       "<style scoped>\n",
       "    .dataframe tbody tr th:only-of-type {\n",
       "        vertical-align: middle;\n",
       "    }\n",
       "\n",
       "    .dataframe tbody tr th {\n",
       "        vertical-align: top;\n",
       "    }\n",
       "\n",
       "    .dataframe thead th {\n",
       "        text-align: right;\n",
       "    }\n",
       "</style>\n",
       "<table border=\"1\" class=\"dataframe\">\n",
       "  <thead>\n",
       "    <tr style=\"text-align: right;\">\n",
       "      <th></th>\n",
       "      <th>0</th>\n",
       "      <th>1</th>\n",
       "      <th>2</th>\n",
       "      <th>3</th>\n",
       "      <th>4</th>\n",
       "    </tr>\n",
       "  </thead>\n",
       "  <tbody>\n",
       "    <tr>\n",
       "      <th>count</th>\n",
       "      <td>334.000000</td>\n",
       "      <td>334.000000</td>\n",
       "      <td>334.000000</td>\n",
       "      <td>334.000000</td>\n",
       "      <td>334.000000</td>\n",
       "    </tr>\n",
       "    <tr>\n",
       "      <th>mean</th>\n",
       "      <td>0.501145</td>\n",
       "      <td>0.507319</td>\n",
       "      <td>0.496475</td>\n",
       "      <td>0.485612</td>\n",
       "      <td>0.518472</td>\n",
       "    </tr>\n",
       "    <tr>\n",
       "      <th>std</th>\n",
       "      <td>0.297593</td>\n",
       "      <td>0.291199</td>\n",
       "      <td>0.286401</td>\n",
       "      <td>0.280163</td>\n",
       "      <td>0.278039</td>\n",
       "    </tr>\n",
       "    <tr>\n",
       "      <th>min</th>\n",
       "      <td>0.003574</td>\n",
       "      <td>0.000557</td>\n",
       "      <td>0.003217</td>\n",
       "      <td>0.002061</td>\n",
       "      <td>0.005964</td>\n",
       "    </tr>\n",
       "    <tr>\n",
       "      <th>25%</th>\n",
       "      <td>0.248273</td>\n",
       "      <td>0.270778</td>\n",
       "      <td>0.255292</td>\n",
       "      <td>0.258805</td>\n",
       "      <td>0.300680</td>\n",
       "    </tr>\n",
       "    <tr>\n",
       "      <th>50%</th>\n",
       "      <td>0.513905</td>\n",
       "      <td>0.505413</td>\n",
       "      <td>0.497168</td>\n",
       "      <td>0.463637</td>\n",
       "      <td>0.532332</td>\n",
       "    </tr>\n",
       "    <tr>\n",
       "      <th>75%</th>\n",
       "      <td>0.743894</td>\n",
       "      <td>0.774019</td>\n",
       "      <td>0.752924</td>\n",
       "      <td>0.708449</td>\n",
       "      <td>0.752678</td>\n",
       "    </tr>\n",
       "    <tr>\n",
       "      <th>max</th>\n",
       "      <td>0.999265</td>\n",
       "      <td>0.999913</td>\n",
       "      <td>0.996909</td>\n",
       "      <td>0.999751</td>\n",
       "      <td>0.999130</td>\n",
       "    </tr>\n",
       "  </tbody>\n",
       "</table>\n",
       "</div>"
      ],
      "text/plain": [
       "                0           1           2           3           4\n",
       "count  334.000000  334.000000  334.000000  334.000000  334.000000\n",
       "mean     0.501145    0.507319    0.496475    0.485612    0.518472\n",
       "std      0.297593    0.291199    0.286401    0.280163    0.278039\n",
       "min      0.003574    0.000557    0.003217    0.002061    0.005964\n",
       "25%      0.248273    0.270778    0.255292    0.258805    0.300680\n",
       "50%      0.513905    0.505413    0.497168    0.463637    0.532332\n",
       "75%      0.743894    0.774019    0.752924    0.708449    0.752678\n",
       "max      0.999265    0.999913    0.996909    0.999751    0.999130"
      ]
     },
     "execution_count": 23,
     "metadata": {},
     "output_type": "execute_result"
    }
   ],
   "source": [
    "newdf.describe()"
   ]
  },
  {
   "cell_type": "code",
   "execution_count": 24,
   "id": "5df6ab3e-6e07-4453-837c-823ec5bf9c2e",
   "metadata": {},
   "outputs": [
    {
     "name": "stderr",
     "output_type": "stream",
     "text": [
      "C:\\Users\\asimk\\AppData\\Local\\Temp\\ipykernel_11828\\511502278.py:1: FutureWarning: ChainedAssignmentError: behaviour will change in pandas 3.0!\n",
      "You are setting values through chained assignment. Currently this works in certain cases, but when using Copy-on-Write (which will become the default behaviour in pandas 3.0) this will never work to update the original DataFrame or Series, because the intermediate object on which we are setting values will behave as a copy.\n",
      "A typical example is when you are setting values in a column of a DataFrame, like:\n",
      "\n",
      "df[\"col\"][row_indexer] = value\n",
      "\n",
      "Use `df.loc[row_indexer, \"col\"] = values` instead, to perform the assignment in a single step and ensure this keeps updating the original `df`.\n",
      "\n",
      "See the caveats in the documentation: https://pandas.pydata.org/pandas-docs/stable/user_guide/indexing.html#returning-a-view-versus-a-copy\n",
      "\n",
      "  newdf[0][0] = [\"Asim\"]\n",
      "C:\\Users\\asimk\\AppData\\Local\\Temp\\ipykernel_11828\\511502278.py:1: FutureWarning: Setting an item of incompatible dtype is deprecated and will raise an error in a future version of pandas. Value '['Asim']' has dtype incompatible with float64, please explicitly cast to a compatible dtype first.\n",
      "  newdf[0][0] = [\"Asim\"]\n"
     ]
    }
   ],
   "source": [
    "newdf[0][0] = [\"Asim\"]"
   ]
  },
  {
   "cell_type": "code",
   "execution_count": 25,
   "id": "aaeb1b6f-64fd-4f3c-9e32-8bfaee0d1a4f",
   "metadata": {},
   "outputs": [
    {
     "data": {
      "text/html": [
       "<div>\n",
       "<style scoped>\n",
       "    .dataframe tbody tr th:only-of-type {\n",
       "        vertical-align: middle;\n",
       "    }\n",
       "\n",
       "    .dataframe tbody tr th {\n",
       "        vertical-align: top;\n",
       "    }\n",
       "\n",
       "    .dataframe thead th {\n",
       "        text-align: right;\n",
       "    }\n",
       "</style>\n",
       "<table border=\"1\" class=\"dataframe\">\n",
       "  <thead>\n",
       "    <tr style=\"text-align: right;\">\n",
       "      <th></th>\n",
       "      <th>0</th>\n",
       "      <th>1</th>\n",
       "      <th>2</th>\n",
       "      <th>3</th>\n",
       "      <th>4</th>\n",
       "    </tr>\n",
       "  </thead>\n",
       "  <tbody>\n",
       "    <tr>\n",
       "      <th>0</th>\n",
       "      <td>[Asim]</td>\n",
       "      <td>0.340458</td>\n",
       "      <td>0.528354</td>\n",
       "      <td>0.086867</td>\n",
       "      <td>0.792700</td>\n",
       "    </tr>\n",
       "    <tr>\n",
       "      <th>1</th>\n",
       "      <td>0.682802</td>\n",
       "      <td>0.260730</td>\n",
       "      <td>0.231797</td>\n",
       "      <td>0.678429</td>\n",
       "      <td>0.125358</td>\n",
       "    </tr>\n",
       "    <tr>\n",
       "      <th>2</th>\n",
       "      <td>0.100771</td>\n",
       "      <td>0.609212</td>\n",
       "      <td>0.483404</td>\n",
       "      <td>0.766376</td>\n",
       "      <td>0.204006</td>\n",
       "    </tr>\n",
       "    <tr>\n",
       "      <th>3</th>\n",
       "      <td>0.738176</td>\n",
       "      <td>0.080914</td>\n",
       "      <td>0.126878</td>\n",
       "      <td>0.520685</td>\n",
       "      <td>0.442061</td>\n",
       "    </tr>\n",
       "    <tr>\n",
       "      <th>4</th>\n",
       "      <td>0.552064</td>\n",
       "      <td>0.043520</td>\n",
       "      <td>0.778963</td>\n",
       "      <td>0.120532</td>\n",
       "      <td>0.690354</td>\n",
       "    </tr>\n",
       "  </tbody>\n",
       "</table>\n",
       "</div>"
      ],
      "text/plain": [
       "          0         1         2         3         4\n",
       "0    [Asim]  0.340458  0.528354  0.086867  0.792700\n",
       "1  0.682802  0.260730  0.231797  0.678429  0.125358\n",
       "2  0.100771  0.609212  0.483404  0.766376  0.204006\n",
       "3  0.738176  0.080914  0.126878  0.520685  0.442061\n",
       "4  0.552064  0.043520  0.778963  0.120532  0.690354"
      ]
     },
     "execution_count": 25,
     "metadata": {},
     "output_type": "execute_result"
    }
   ],
   "source": [
    "newdf.head()"
   ]
  },
  {
   "cell_type": "code",
   "execution_count": 26,
   "id": "08763d8b-8696-4f69-ad7e-cc28ce443d96",
   "metadata": {},
   "outputs": [
    {
     "data": {
      "text/plain": [
       "0     object\n",
       "1    float64\n",
       "2    float64\n",
       "3    float64\n",
       "4    float64\n",
       "dtype: object"
      ]
     },
     "execution_count": 26,
     "metadata": {},
     "output_type": "execute_result"
    }
   ],
   "source": [
    "newdf.dtypes"
   ]
  },
  {
   "cell_type": "code",
   "execution_count": 27,
   "id": "c4b1dbd5-6073-4a4b-8011-8bed19c995ed",
   "metadata": {},
   "outputs": [
    {
     "data": {
      "text/plain": [
       "Index([  0,   1,   2,   3,   4,   5,   6,   7,   8,   9,\n",
       "       ...\n",
       "       324, 325, 326, 327, 328, 329, 330, 331, 332, 333],\n",
       "      dtype='int64', length=334)"
      ]
     },
     "execution_count": 27,
     "metadata": {},
     "output_type": "execute_result"
    }
   ],
   "source": [
    "newdf.index"
   ]
  },
  {
   "cell_type": "code",
   "execution_count": 28,
   "id": "c64a3d6b-c8c5-4d73-ae57-a9a27478c012",
   "metadata": {},
   "outputs": [],
   "source": [
    "ser = pd.Series([1, 4, \"Asim\"], index=['a', 'b', 'c'])"
   ]
  },
  {
   "cell_type": "code",
   "execution_count": 29,
   "id": "0f787766-0e20-4956-a1c5-59cc2492ea4a",
   "metadata": {},
   "outputs": [
    {
     "data": {
      "text/plain": [
       "a       1\n",
       "b       4\n",
       "c    Asim\n",
       "dtype: object"
      ]
     },
     "execution_count": 29,
     "metadata": {},
     "output_type": "execute_result"
    }
   ],
   "source": [
    "ser"
   ]
  },
  {
   "cell_type": "code",
   "execution_count": 30,
   "id": "326f928e-2970-461c-aed8-c5a16a8499ba",
   "metadata": {},
   "outputs": [],
   "source": [
    "ndf = pd.DataFrame(np.random.rand(200, 5), index=(np.arange(200)))"
   ]
  },
  {
   "cell_type": "code",
   "execution_count": 31,
   "id": "31bf18d5-5c90-4208-86fa-c894bdb89c99",
   "metadata": {},
   "outputs": [],
   "source": [
    "ndf.to_csv(\"DataFrame.csv\", index=False)"
   ]
  },
  {
   "cell_type": "code",
   "execution_count": 32,
   "id": "9e1d8a5b-2e1e-4c5c-9ff8-fcf27fefb204",
   "metadata": {},
   "outputs": [
    {
     "data": {
      "text/plain": [
       "0    0.893813\n",
       "1    0.964574\n",
       "2    0.483774\n",
       "3    0.456064\n",
       "4    0.268180\n",
       "Name: 0, dtype: float64"
      ]
     },
     "execution_count": 32,
     "metadata": {},
     "output_type": "execute_result"
    }
   ],
   "source": [
    "ndf.iloc[0]"
   ]
  },
  {
   "cell_type": "code",
   "execution_count": 33,
   "id": "b7f71e5b-2e8b-424a-95fe-95c48047b93f",
   "metadata": {},
   "outputs": [
    {
     "data": {
      "text/plain": [
       "'Asim'"
      ]
     },
     "execution_count": 33,
     "metadata": {},
     "output_type": "execute_result"
    }
   ],
   "source": [
    "df.loc[0, \"Name\"]"
   ]
  },
  {
   "cell_type": "code",
   "execution_count": 34,
   "id": "62b8bdc2-1093-44e7-adc4-1174db8c1726",
   "metadata": {},
   "outputs": [],
   "source": [
    "df1 = pd.read_csv(\"sample_data_100_rows - Copy.csv\")"
   ]
  },
  {
   "cell_type": "code",
   "execution_count": 35,
   "id": "4e156715-72e1-4d3a-9f39-e34daf31210c",
   "metadata": {},
   "outputs": [
    {
     "data": {
      "text/plain": [
       "(100, 5)"
      ]
     },
     "execution_count": 35,
     "metadata": {},
     "output_type": "execute_result"
    }
   ],
   "source": [
    "df1.shape"
   ]
  },
  {
   "cell_type": "code",
   "execution_count": 36,
   "id": "6d208d98-fbcf-4156-94e4-013c5c9edb97",
   "metadata": {},
   "outputs": [
    {
     "data": {
      "text/html": [
       "<div>\n",
       "<style scoped>\n",
       "    .dataframe tbody tr th:only-of-type {\n",
       "        vertical-align: middle;\n",
       "    }\n",
       "\n",
       "    .dataframe tbody tr th {\n",
       "        vertical-align: top;\n",
       "    }\n",
       "\n",
       "    .dataframe thead th {\n",
       "        text-align: right;\n",
       "    }\n",
       "</style>\n",
       "<table border=\"1\" class=\"dataframe\">\n",
       "  <thead>\n",
       "    <tr style=\"text-align: right;\">\n",
       "      <th></th>\n",
       "      <th>ID</th>\n",
       "      <th>Name</th>\n",
       "      <th>Age</th>\n",
       "      <th>Salary</th>\n",
       "      <th>Department</th>\n",
       "    </tr>\n",
       "  </thead>\n",
       "  <tbody>\n",
       "    <tr>\n",
       "      <th>0</th>\n",
       "      <td>1.0</td>\n",
       "      <td>NaN</td>\n",
       "      <td>NaN</td>\n",
       "      <td>NaN</td>\n",
       "      <td>NaN</td>\n",
       "    </tr>\n",
       "    <tr>\n",
       "      <th>1</th>\n",
       "      <td>2.0</td>\n",
       "      <td>Charlie</td>\n",
       "      <td>46.0</td>\n",
       "      <td>NaN</td>\n",
       "      <td>HR</td>\n",
       "    </tr>\n",
       "    <tr>\n",
       "      <th>2</th>\n",
       "      <td>3.0</td>\n",
       "      <td>Jack</td>\n",
       "      <td>NaN</td>\n",
       "      <td>97340.0</td>\n",
       "      <td>NaN</td>\n",
       "    </tr>\n",
       "    <tr>\n",
       "      <th>3</th>\n",
       "      <td>4.0</td>\n",
       "      <td>NaN</td>\n",
       "      <td>31.0</td>\n",
       "      <td>86707.0</td>\n",
       "      <td>Marketing</td>\n",
       "    </tr>\n",
       "    <tr>\n",
       "      <th>4</th>\n",
       "      <td>5.0</td>\n",
       "      <td>Jack</td>\n",
       "      <td>24.0</td>\n",
       "      <td>117304.0</td>\n",
       "      <td>NaN</td>\n",
       "    </tr>\n",
       "  </tbody>\n",
       "</table>\n",
       "</div>"
      ],
      "text/plain": [
       "    ID     Name   Age    Salary Department\n",
       "0  1.0      NaN   NaN       NaN        NaN\n",
       "1  2.0  Charlie  46.0       NaN         HR\n",
       "2  3.0     Jack   NaN   97340.0        NaN\n",
       "3  4.0      NaN  31.0   86707.0  Marketing\n",
       "4  5.0     Jack  24.0  117304.0        NaN"
      ]
     },
     "execution_count": 36,
     "metadata": {},
     "output_type": "execute_result"
    }
   ],
   "source": [
    "df1.head()"
   ]
  },
  {
   "cell_type": "markdown",
   "id": "d68582cc-b10f-4650-8408-6e7e477e43a6",
   "metadata": {},
   "source": [
    "#### if any row contain at least one Nan value dropna() method drop all row\n",
    "#### if write like that df1.dropna(how=\"True\")"
   ]
  },
  {
   "cell_type": "code",
   "execution_count": 37,
   "id": "9216a760-a385-44f8-936f-3aac3a77039a",
   "metadata": {},
   "outputs": [
    {
     "data": {
      "text/plain": [
       "(87, 5)"
      ]
     },
     "execution_count": 37,
     "metadata": {},
     "output_type": "execute_result"
    }
   ],
   "source": [
    "df1.dropna().shape"
   ]
  },
  {
   "cell_type": "markdown",
   "id": "4d68b44e-3ee8-4877-8775-001d4e366080",
   "metadata": {},
   "source": [
    "#### this method drop row if all columns contain NaN values"
   ]
  },
  {
   "cell_type": "code",
   "execution_count": 38,
   "id": "d4825bd7-93dd-4030-acd1-2f369572f293",
   "metadata": {},
   "outputs": [
    {
     "data": {
      "text/plain": [
       "(99, 5)"
      ]
     },
     "execution_count": 38,
     "metadata": {},
     "output_type": "execute_result"
    }
   ],
   "source": [
    "df1.dropna(how=\"all\").shape"
   ]
  },
  {
   "cell_type": "markdown",
   "id": "bab52042-0318-4213-b888-e9178ad65e1f",
   "metadata": {},
   "source": [
    "#### if x = 0 mean if any row contain NaN value \n",
    "#### if x = 1 mean if any column contain NaN value\n",
    "#### by default dropna() method set row (x=0) \n"
   ]
  },
  {
   "cell_type": "code",
   "execution_count": 39,
   "id": "636a2b65-fd19-4ab6-a3ff-dab82526e828",
   "metadata": {},
   "outputs": [
    {
     "data": {
      "text/plain": [
       "(100, 0)"
      ]
     },
     "execution_count": 39,
     "metadata": {},
     "output_type": "execute_result"
    }
   ],
   "source": [
    "df1.dropna(axis=1).shape"
   ]
  },
  {
   "cell_type": "markdown",
   "id": "2eaffe4a-3cb0-44e7-84fd-2f72011f9cd9",
   "metadata": {},
   "source": [
    "#### how = \"all\" mean if column contain all values NaN"
   ]
  },
  {
   "cell_type": "code",
   "execution_count": 40,
   "id": "5c4ed826-2788-4d34-807f-c0483d990177",
   "metadata": {},
   "outputs": [
    {
     "data": {
      "text/plain": [
       "(100, 5)"
      ]
     },
     "execution_count": 40,
     "metadata": {},
     "output_type": "execute_result"
    }
   ],
   "source": [
    "df1.dropna(axis=1, how=\"all\").shape"
   ]
  },
  {
   "cell_type": "markdown",
   "id": "6a577f43-72b0-48dc-a88a-98dd763be04d",
   "metadata": {},
   "source": [
    "#### subset method show perticular column contain howmany NaN value"
   ]
  },
  {
   "cell_type": "code",
   "execution_count": 41,
   "id": "ca297104-b1aa-432d-a5db-7df813b7c0a7",
   "metadata": {},
   "outputs": [
    {
     "data": {
      "text/plain": [
       "(97, 5)"
      ]
     },
     "execution_count": 41,
     "metadata": {},
     "output_type": "execute_result"
    }
   ],
   "source": [
    "df1.dropna(subset=[\"Name\"]).shape"
   ]
  },
  {
   "cell_type": "markdown",
   "id": "0867299e-cc99-4f28-bcde-4e51776aea1b",
   "metadata": {},
   "source": [
    "#### fillna() method fill the NaN value with the given value"
   ]
  },
  {
   "cell_type": "code",
   "execution_count": 42,
   "id": "f8ea0389-008e-4e38-a653-2743a3812ce5",
   "metadata": {},
   "outputs": [
    {
     "data": {
      "text/html": [
       "<div>\n",
       "<style scoped>\n",
       "    .dataframe tbody tr th:only-of-type {\n",
       "        vertical-align: middle;\n",
       "    }\n",
       "\n",
       "    .dataframe tbody tr th {\n",
       "        vertical-align: top;\n",
       "    }\n",
       "\n",
       "    .dataframe thead th {\n",
       "        text-align: right;\n",
       "    }\n",
       "</style>\n",
       "<table border=\"1\" class=\"dataframe\">\n",
       "  <thead>\n",
       "    <tr style=\"text-align: right;\">\n",
       "      <th></th>\n",
       "      <th>ID</th>\n",
       "      <th>Name</th>\n",
       "      <th>Age</th>\n",
       "      <th>Salary</th>\n",
       "      <th>Department</th>\n",
       "    </tr>\n",
       "  </thead>\n",
       "  <tbody>\n",
       "    <tr>\n",
       "      <th>0</th>\n",
       "      <td>1.0</td>\n",
       "      <td>0</td>\n",
       "      <td>0.0</td>\n",
       "      <td>0.0</td>\n",
       "      <td>0</td>\n",
       "    </tr>\n",
       "    <tr>\n",
       "      <th>1</th>\n",
       "      <td>2.0</td>\n",
       "      <td>Charlie</td>\n",
       "      <td>46.0</td>\n",
       "      <td>0.0</td>\n",
       "      <td>HR</td>\n",
       "    </tr>\n",
       "    <tr>\n",
       "      <th>2</th>\n",
       "      <td>3.0</td>\n",
       "      <td>Jack</td>\n",
       "      <td>0.0</td>\n",
       "      <td>97340.0</td>\n",
       "      <td>0</td>\n",
       "    </tr>\n",
       "    <tr>\n",
       "      <th>3</th>\n",
       "      <td>4.0</td>\n",
       "      <td>0</td>\n",
       "      <td>31.0</td>\n",
       "      <td>86707.0</td>\n",
       "      <td>Marketing</td>\n",
       "    </tr>\n",
       "    <tr>\n",
       "      <th>4</th>\n",
       "      <td>5.0</td>\n",
       "      <td>Jack</td>\n",
       "      <td>24.0</td>\n",
       "      <td>117304.0</td>\n",
       "      <td>0</td>\n",
       "    </tr>\n",
       "    <tr>\n",
       "      <th>...</th>\n",
       "      <td>...</td>\n",
       "      <td>...</td>\n",
       "      <td>...</td>\n",
       "      <td>...</td>\n",
       "      <td>...</td>\n",
       "    </tr>\n",
       "    <tr>\n",
       "      <th>95</th>\n",
       "      <td>96.0</td>\n",
       "      <td>David</td>\n",
       "      <td>29.0</td>\n",
       "      <td>114891.0</td>\n",
       "      <td>Marketing</td>\n",
       "    </tr>\n",
       "    <tr>\n",
       "      <th>96</th>\n",
       "      <td>97.0</td>\n",
       "      <td>Grace</td>\n",
       "      <td>50.0</td>\n",
       "      <td>60185.0</td>\n",
       "      <td>IT</td>\n",
       "    </tr>\n",
       "    <tr>\n",
       "      <th>97</th>\n",
       "      <td>98.0</td>\n",
       "      <td>Grace</td>\n",
       "      <td>25.0</td>\n",
       "      <td>60976.0</td>\n",
       "      <td>Marketing</td>\n",
       "    </tr>\n",
       "    <tr>\n",
       "      <th>98</th>\n",
       "      <td>99.0</td>\n",
       "      <td>Eve</td>\n",
       "      <td>26.0</td>\n",
       "      <td>45558.0</td>\n",
       "      <td>Finance</td>\n",
       "    </tr>\n",
       "    <tr>\n",
       "      <th>99</th>\n",
       "      <td>100.0</td>\n",
       "      <td>Grace</td>\n",
       "      <td>44.0</td>\n",
       "      <td>55409.0</td>\n",
       "      <td>Sales</td>\n",
       "    </tr>\n",
       "  </tbody>\n",
       "</table>\n",
       "<p>100 rows × 5 columns</p>\n",
       "</div>"
      ],
      "text/plain": [
       "       ID     Name   Age    Salary Department\n",
       "0     1.0        0   0.0       0.0          0\n",
       "1     2.0  Charlie  46.0       0.0         HR\n",
       "2     3.0     Jack   0.0   97340.0          0\n",
       "3     4.0        0  31.0   86707.0  Marketing\n",
       "4     5.0     Jack  24.0  117304.0          0\n",
       "..    ...      ...   ...       ...        ...\n",
       "95   96.0    David  29.0  114891.0  Marketing\n",
       "96   97.0    Grace  50.0   60185.0         IT\n",
       "97   98.0    Grace  25.0   60976.0  Marketing\n",
       "98   99.0      Eve  26.0   45558.0    Finance\n",
       "99  100.0    Grace  44.0   55409.0      Sales\n",
       "\n",
       "[100 rows x 5 columns]"
      ]
     },
     "execution_count": 42,
     "metadata": {},
     "output_type": "execute_result"
    }
   ],
   "source": [
    "df1.fillna(0)"
   ]
  },
  {
   "cell_type": "markdown",
   "id": "be0fcf9e-fb3b-4865-8209-0e2bdc7945b2",
   "metadata": {},
   "source": [
    "##### how to rename column name"
   ]
  },
  {
   "cell_type": "code",
   "execution_count": 43,
   "id": "55eed840-50cd-4740-8bc5-f53eed93bf97",
   "metadata": {},
   "outputs": [
    {
     "data": {
      "text/html": [
       "<div>\n",
       "<style scoped>\n",
       "    .dataframe tbody tr th:only-of-type {\n",
       "        vertical-align: middle;\n",
       "    }\n",
       "\n",
       "    .dataframe tbody tr th {\n",
       "        vertical-align: top;\n",
       "    }\n",
       "\n",
       "    .dataframe thead th {\n",
       "        text-align: right;\n",
       "    }\n",
       "</style>\n",
       "<table border=\"1\" class=\"dataframe\">\n",
       "  <thead>\n",
       "    <tr style=\"text-align: right;\">\n",
       "      <th></th>\n",
       "      <th>ID</th>\n",
       "      <th>Name</th>\n",
       "      <th>Age</th>\n",
       "      <th>Sal</th>\n",
       "      <th>Department</th>\n",
       "    </tr>\n",
       "  </thead>\n",
       "  <tbody>\n",
       "    <tr>\n",
       "      <th>0</th>\n",
       "      <td>1.0</td>\n",
       "      <td>NaN</td>\n",
       "      <td>NaN</td>\n",
       "      <td>NaN</td>\n",
       "      <td>NaN</td>\n",
       "    </tr>\n",
       "    <tr>\n",
       "      <th>1</th>\n",
       "      <td>2.0</td>\n",
       "      <td>Charlie</td>\n",
       "      <td>46.0</td>\n",
       "      <td>NaN</td>\n",
       "      <td>HR</td>\n",
       "    </tr>\n",
       "    <tr>\n",
       "      <th>2</th>\n",
       "      <td>3.0</td>\n",
       "      <td>Jack</td>\n",
       "      <td>NaN</td>\n",
       "      <td>97340.0</td>\n",
       "      <td>NaN</td>\n",
       "    </tr>\n",
       "    <tr>\n",
       "      <th>3</th>\n",
       "      <td>4.0</td>\n",
       "      <td>NaN</td>\n",
       "      <td>31.0</td>\n",
       "      <td>86707.0</td>\n",
       "      <td>Marketing</td>\n",
       "    </tr>\n",
       "    <tr>\n",
       "      <th>4</th>\n",
       "      <td>5.0</td>\n",
       "      <td>Jack</td>\n",
       "      <td>24.0</td>\n",
       "      <td>117304.0</td>\n",
       "      <td>NaN</td>\n",
       "    </tr>\n",
       "    <tr>\n",
       "      <th>...</th>\n",
       "      <td>...</td>\n",
       "      <td>...</td>\n",
       "      <td>...</td>\n",
       "      <td>...</td>\n",
       "      <td>...</td>\n",
       "    </tr>\n",
       "    <tr>\n",
       "      <th>95</th>\n",
       "      <td>96.0</td>\n",
       "      <td>David</td>\n",
       "      <td>29.0</td>\n",
       "      <td>114891.0</td>\n",
       "      <td>Marketing</td>\n",
       "    </tr>\n",
       "    <tr>\n",
       "      <th>96</th>\n",
       "      <td>97.0</td>\n",
       "      <td>Grace</td>\n",
       "      <td>50.0</td>\n",
       "      <td>60185.0</td>\n",
       "      <td>IT</td>\n",
       "    </tr>\n",
       "    <tr>\n",
       "      <th>97</th>\n",
       "      <td>98.0</td>\n",
       "      <td>Grace</td>\n",
       "      <td>25.0</td>\n",
       "      <td>60976.0</td>\n",
       "      <td>Marketing</td>\n",
       "    </tr>\n",
       "    <tr>\n",
       "      <th>98</th>\n",
       "      <td>99.0</td>\n",
       "      <td>Eve</td>\n",
       "      <td>26.0</td>\n",
       "      <td>45558.0</td>\n",
       "      <td>Finance</td>\n",
       "    </tr>\n",
       "    <tr>\n",
       "      <th>99</th>\n",
       "      <td>100.0</td>\n",
       "      <td>Grace</td>\n",
       "      <td>44.0</td>\n",
       "      <td>55409.0</td>\n",
       "      <td>Sales</td>\n",
       "    </tr>\n",
       "  </tbody>\n",
       "</table>\n",
       "<p>100 rows × 5 columns</p>\n",
       "</div>"
      ],
      "text/plain": [
       "       ID     Name   Age       Sal Department\n",
       "0     1.0      NaN   NaN       NaN        NaN\n",
       "1     2.0  Charlie  46.0       NaN         HR\n",
       "2     3.0     Jack   NaN   97340.0        NaN\n",
       "3     4.0      NaN  31.0   86707.0  Marketing\n",
       "4     5.0     Jack  24.0  117304.0        NaN\n",
       "..    ...      ...   ...       ...        ...\n",
       "95   96.0    David  29.0  114891.0  Marketing\n",
       "96   97.0    Grace  50.0   60185.0         IT\n",
       "97   98.0    Grace  25.0   60976.0  Marketing\n",
       "98   99.0      Eve  26.0   45558.0    Finance\n",
       "99  100.0    Grace  44.0   55409.0      Sales\n",
       "\n",
       "[100 rows x 5 columns]"
      ]
     },
     "execution_count": 43,
     "metadata": {},
     "output_type": "execute_result"
    }
   ],
   "source": [
    "df1.rename(columns={\"Salary\" : \"Sal\"})"
   ]
  },
  {
   "cell_type": "code",
   "execution_count": 44,
   "id": "a3f84f69-a009-4dc3-99f5-3a0eadac505d",
   "metadata": {},
   "outputs": [
    {
     "name": "stdout",
     "output_type": "stream",
     "text": [
      "<class 'pandas.core.frame.DataFrame'>\n",
      "RangeIndex: 100 entries, 0 to 99\n",
      "Data columns (total 5 columns):\n",
      " #   Column      Non-Null Count  Dtype  \n",
      "---  ------      --------------  -----  \n",
      " 0   ID          97 non-null     float64\n",
      " 1   Name        97 non-null     object \n",
      " 2   Age         94 non-null     float64\n",
      " 3   Salary      96 non-null     float64\n",
      " 4   Department  93 non-null     object \n",
      "dtypes: float64(3), object(2)\n",
      "memory usage: 4.0+ KB\n"
     ]
    }
   ],
   "source": [
    "df1.info()"
   ]
  },
  {
   "cell_type": "markdown",
   "id": "950eded5-b384-49a5-9cef-032b8956050c",
   "metadata": {},
   "source": [
    "##### if we want to change column data type if column contain Nan value then give error"
   ]
  },
  {
   "cell_type": "code",
   "execution_count": 48,
   "id": "95072068-98c8-4ccf-a75f-f1d67245c0c1",
   "metadata": {},
   "outputs": [],
   "source": [
    "df1[\"Salary\"] = df1[\"Salary\"].fillna(0).astype(int)"
   ]
  },
  {
   "cell_type": "code",
   "execution_count": 50,
   "id": "4c7e35f8-28d8-4f54-917d-c4804704c682",
   "metadata": {},
   "outputs": [
    {
     "name": "stdout",
     "output_type": "stream",
     "text": [
      "<class 'pandas.core.frame.DataFrame'>\n",
      "RangeIndex: 100 entries, 0 to 99\n",
      "Data columns (total 5 columns):\n",
      " #   Column      Non-Null Count  Dtype  \n",
      "---  ------      --------------  -----  \n",
      " 0   ID          97 non-null     float64\n",
      " 1   Name        97 non-null     object \n",
      " 2   Age         94 non-null     float64\n",
      " 3   Salary      100 non-null    int64  \n",
      " 4   Department  93 non-null     object \n",
      "dtypes: float64(2), int64(1), object(2)\n",
      "memory usage: 4.0+ KB\n"
     ]
    }
   ],
   "source": [
    "df1.info()"
   ]
  },
  {
   "cell_type": "markdown",
   "id": "ef718152-5791-4b5a-ac8a-4807ef69ce5d",
   "metadata": {},
   "source": [
    "##### len() function return rows (how many rows in the data frame)"
   ]
  },
  {
   "cell_type": "code",
   "execution_count": 53,
   "id": "0a56b14c-8874-4f2a-bee8-f1bbf533aed6",
   "metadata": {},
   "outputs": [
    {
     "data": {
      "text/plain": [
       "100"
      ]
     },
     "execution_count": 53,
     "metadata": {},
     "output_type": "execute_result"
    }
   ],
   "source": [
    "len(df1)"
   ]
  },
  {
   "cell_type": "markdown",
   "id": "6859a687-4453-4bdb-810f-dfab1677d8e2",
   "metadata": {},
   "source": [
    "##### add new column "
   ]
  },
  {
   "cell_type": "code",
   "execution_count": 59,
   "id": "0fc99e59-54c5-4379-9395-1c68802ba143",
   "metadata": {},
   "outputs": [],
   "source": [
    "df1[\"Zeros\"] = [0 for i in range(len(df1))]"
   ]
  },
  {
   "cell_type": "code",
   "execution_count": 58,
   "id": "bde9dafc-da49-485a-8b80-bcb6347b360c",
   "metadata": {},
   "outputs": [
    {
     "data": {
      "text/plain": [
       "(100, 6)"
      ]
     },
     "execution_count": 58,
     "metadata": {},
     "output_type": "execute_result"
    }
   ],
   "source": [
    "df1.shape"
   ]
  },
  {
   "cell_type": "markdown",
   "id": "8ab5b8a4-7452-4359-a538-6c616e4ab3c3",
   "metadata": {},
   "source": [
    "##### if we want to square of any column first add new column . we can do this"
   ]
  },
  {
   "cell_type": "code",
   "execution_count": 65,
   "id": "c168e4ec-1d3e-4a95-ae49-1b2988e650fc",
   "metadata": {},
   "outputs": [],
   "source": [
    "def fun(a):\n",
    "    return a * a\n",
    "df1[\"Zeros + 1\"] = df1[\"Zeros\"].apply(fun)"
   ]
  },
  {
   "cell_type": "code",
   "execution_count": 66,
   "id": "8d0c8cde-7871-466d-93e1-4e843b88a55a",
   "metadata": {},
   "outputs": [
    {
     "data": {
      "text/html": [
       "<div>\n",
       "<style scoped>\n",
       "    .dataframe tbody tr th:only-of-type {\n",
       "        vertical-align: middle;\n",
       "    }\n",
       "\n",
       "    .dataframe tbody tr th {\n",
       "        vertical-align: top;\n",
       "    }\n",
       "\n",
       "    .dataframe thead th {\n",
       "        text-align: right;\n",
       "    }\n",
       "</style>\n",
       "<table border=\"1\" class=\"dataframe\">\n",
       "  <thead>\n",
       "    <tr style=\"text-align: right;\">\n",
       "      <th></th>\n",
       "      <th>ID</th>\n",
       "      <th>Name</th>\n",
       "      <th>Age</th>\n",
       "      <th>Salary</th>\n",
       "      <th>Department</th>\n",
       "      <th>Zeros</th>\n",
       "      <th>Zeros + 1</th>\n",
       "    </tr>\n",
       "  </thead>\n",
       "  <tbody>\n",
       "    <tr>\n",
       "      <th>0</th>\n",
       "      <td>1.0</td>\n",
       "      <td>NaN</td>\n",
       "      <td>NaN</td>\n",
       "      <td>0</td>\n",
       "      <td>NaN</td>\n",
       "      <td>0</td>\n",
       "      <td>0</td>\n",
       "    </tr>\n",
       "    <tr>\n",
       "      <th>1</th>\n",
       "      <td>2.0</td>\n",
       "      <td>Charlie</td>\n",
       "      <td>46.0</td>\n",
       "      <td>0</td>\n",
       "      <td>HR</td>\n",
       "      <td>1</td>\n",
       "      <td>1</td>\n",
       "    </tr>\n",
       "    <tr>\n",
       "      <th>2</th>\n",
       "      <td>3.0</td>\n",
       "      <td>Jack</td>\n",
       "      <td>NaN</td>\n",
       "      <td>97340</td>\n",
       "      <td>NaN</td>\n",
       "      <td>2</td>\n",
       "      <td>4</td>\n",
       "    </tr>\n",
       "    <tr>\n",
       "      <th>3</th>\n",
       "      <td>4.0</td>\n",
       "      <td>NaN</td>\n",
       "      <td>31.0</td>\n",
       "      <td>86707</td>\n",
       "      <td>Marketing</td>\n",
       "      <td>3</td>\n",
       "      <td>9</td>\n",
       "    </tr>\n",
       "    <tr>\n",
       "      <th>4</th>\n",
       "      <td>5.0</td>\n",
       "      <td>Jack</td>\n",
       "      <td>24.0</td>\n",
       "      <td>117304</td>\n",
       "      <td>NaN</td>\n",
       "      <td>4</td>\n",
       "      <td>16</td>\n",
       "    </tr>\n",
       "    <tr>\n",
       "      <th>...</th>\n",
       "      <td>...</td>\n",
       "      <td>...</td>\n",
       "      <td>...</td>\n",
       "      <td>...</td>\n",
       "      <td>...</td>\n",
       "      <td>...</td>\n",
       "      <td>...</td>\n",
       "    </tr>\n",
       "    <tr>\n",
       "      <th>95</th>\n",
       "      <td>96.0</td>\n",
       "      <td>David</td>\n",
       "      <td>29.0</td>\n",
       "      <td>114891</td>\n",
       "      <td>Marketing</td>\n",
       "      <td>95</td>\n",
       "      <td>9025</td>\n",
       "    </tr>\n",
       "    <tr>\n",
       "      <th>96</th>\n",
       "      <td>97.0</td>\n",
       "      <td>Grace</td>\n",
       "      <td>50.0</td>\n",
       "      <td>60185</td>\n",
       "      <td>IT</td>\n",
       "      <td>96</td>\n",
       "      <td>9216</td>\n",
       "    </tr>\n",
       "    <tr>\n",
       "      <th>97</th>\n",
       "      <td>98.0</td>\n",
       "      <td>Grace</td>\n",
       "      <td>25.0</td>\n",
       "      <td>60976</td>\n",
       "      <td>Marketing</td>\n",
       "      <td>97</td>\n",
       "      <td>9409</td>\n",
       "    </tr>\n",
       "    <tr>\n",
       "      <th>98</th>\n",
       "      <td>99.0</td>\n",
       "      <td>Eve</td>\n",
       "      <td>26.0</td>\n",
       "      <td>45558</td>\n",
       "      <td>Finance</td>\n",
       "      <td>98</td>\n",
       "      <td>9604</td>\n",
       "    </tr>\n",
       "    <tr>\n",
       "      <th>99</th>\n",
       "      <td>100.0</td>\n",
       "      <td>Grace</td>\n",
       "      <td>44.0</td>\n",
       "      <td>55409</td>\n",
       "      <td>Sales</td>\n",
       "      <td>99</td>\n",
       "      <td>9801</td>\n",
       "    </tr>\n",
       "  </tbody>\n",
       "</table>\n",
       "<p>100 rows × 7 columns</p>\n",
       "</div>"
      ],
      "text/plain": [
       "       ID     Name   Age  Salary Department  Zeros  Zeros + 1\n",
       "0     1.0      NaN   NaN       0        NaN      0          0\n",
       "1     2.0  Charlie  46.0       0         HR      1          1\n",
       "2     3.0     Jack   NaN   97340        NaN      2          4\n",
       "3     4.0      NaN  31.0   86707  Marketing      3          9\n",
       "4     5.0     Jack  24.0  117304        NaN      4         16\n",
       "..    ...      ...   ...     ...        ...    ...        ...\n",
       "95   96.0    David  29.0  114891  Marketing     95       9025\n",
       "96   97.0    Grace  50.0   60185         IT     96       9216\n",
       "97   98.0    Grace  25.0   60976  Marketing     97       9409\n",
       "98   99.0      Eve  26.0   45558    Finance     98       9604\n",
       "99  100.0    Grace  44.0   55409      Sales     99       9801\n",
       "\n",
       "[100 rows x 7 columns]"
      ]
     },
     "execution_count": 66,
     "metadata": {},
     "output_type": "execute_result"
    }
   ],
   "source": [
    "df1"
   ]
  },
  {
   "cell_type": "code",
   "execution_count": 67,
   "id": "34988974-6933-4d6a-8fb2-9683c63ccafd",
   "metadata": {},
   "outputs": [],
   "source": [
    "df1.to_csv(\"export.csv\", index=False)"
   ]
  },
  {
   "cell_type": "markdown",
   "id": "95f4971e-0719-4648-b2bb-160b8e3512d8",
   "metadata": {},
   "source": [
    "##### Concatination of DataFrame using concat() fun. Syntax : pd.concat([dataFrame1, dataFrame2])"
   ]
  },
  {
   "cell_type": "code",
   "execution_count": 68,
   "id": "14085144-2e2b-4b25-ba7f-9953522fa053",
   "metadata": {},
   "outputs": [],
   "source": [
    "df2 = pd.DataFrame({\n",
    "    \"Name\" : [\"Vivek\", \"Santosh\", \"Raman\"],\n",
    "    \"Marks\" : [34, 65, 2]\n",
    "})"
   ]
  },
  {
   "cell_type": "code",
   "execution_count": 69,
   "id": "da908ab6-8387-46bd-8438-6a8a01356f96",
   "metadata": {},
   "outputs": [],
   "source": [
    "df3 = pd.DataFrame({\n",
    "    \"Name\" : [\"Ravi\", \"Rohan\", \"Rahul\"],\n",
    "    \"Marks\" : [45, 1, 78]\n",
    "})"
   ]
  },
  {
   "cell_type": "code",
   "execution_count": 70,
   "id": "2932f845-3ccd-41e5-9073-be502d8b7d98",
   "metadata": {},
   "outputs": [
    {
     "data": {
      "text/html": [
       "<div>\n",
       "<style scoped>\n",
       "    .dataframe tbody tr th:only-of-type {\n",
       "        vertical-align: middle;\n",
       "    }\n",
       "\n",
       "    .dataframe tbody tr th {\n",
       "        vertical-align: top;\n",
       "    }\n",
       "\n",
       "    .dataframe thead th {\n",
       "        text-align: right;\n",
       "    }\n",
       "</style>\n",
       "<table border=\"1\" class=\"dataframe\">\n",
       "  <thead>\n",
       "    <tr style=\"text-align: right;\">\n",
       "      <th></th>\n",
       "      <th>Name</th>\n",
       "      <th>Marks</th>\n",
       "    </tr>\n",
       "  </thead>\n",
       "  <tbody>\n",
       "    <tr>\n",
       "      <th>0</th>\n",
       "      <td>Vivek</td>\n",
       "      <td>34</td>\n",
       "    </tr>\n",
       "    <tr>\n",
       "      <th>1</th>\n",
       "      <td>Santosh</td>\n",
       "      <td>65</td>\n",
       "    </tr>\n",
       "    <tr>\n",
       "      <th>2</th>\n",
       "      <td>Raman</td>\n",
       "      <td>2</td>\n",
       "    </tr>\n",
       "    <tr>\n",
       "      <th>0</th>\n",
       "      <td>Ravi</td>\n",
       "      <td>45</td>\n",
       "    </tr>\n",
       "    <tr>\n",
       "      <th>1</th>\n",
       "      <td>Rohan</td>\n",
       "      <td>1</td>\n",
       "    </tr>\n",
       "    <tr>\n",
       "      <th>2</th>\n",
       "      <td>Rahul</td>\n",
       "      <td>78</td>\n",
       "    </tr>\n",
       "  </tbody>\n",
       "</table>\n",
       "</div>"
      ],
      "text/plain": [
       "      Name  Marks\n",
       "0    Vivek     34\n",
       "1  Santosh     65\n",
       "2    Raman      2\n",
       "0     Ravi     45\n",
       "1    Rohan      1\n",
       "2    Rahul     78"
      ]
     },
     "execution_count": 70,
     "metadata": {},
     "output_type": "execute_result"
    }
   ],
   "source": [
    "pd.concat([df2, df3])"
   ]
  },
  {
   "cell_type": "markdown",
   "id": "6c42ff06-99ee-4ebb-bc23-c6b492654dbc",
   "metadata": {},
   "source": [
    "merge data frame using merge function Syntax : pd.merge(dataFrame1, df2, on=\"coln_name\")"
   ]
  },
  {
   "cell_type": "code",
   "execution_count": 71,
   "id": "00a61590-4d54-4a90-b5f4-bbe305b3ab65",
   "metadata": {},
   "outputs": [],
   "source": [
    "df3 = pd.DataFrame({\n",
    "    \"Name\" : [\"Rihan\", \"Wasi\"], \n",
    "    \"Marks\" : [70, 34]\n",
    "})"
   ]
  },
  {
   "cell_type": "code",
   "execution_count": 72,
   "id": "397a260c-536c-47e1-94bf-515efb98cea2",
   "metadata": {},
   "outputs": [],
   "source": [
    "df4 = pd.DataFrame({\n",
    "    \"Name\" : [\"Rihan\", \"Wasi\"],\n",
    "    \"Roll No.\" : [1233, 1245]\n",
    "})"
   ]
  },
  {
   "cell_type": "code",
   "execution_count": 73,
   "id": "b4e65fe5-837a-41c8-ad36-d936f18e7b5a",
   "metadata": {},
   "outputs": [
    {
     "data": {
      "text/html": [
       "<div>\n",
       "<style scoped>\n",
       "    .dataframe tbody tr th:only-of-type {\n",
       "        vertical-align: middle;\n",
       "    }\n",
       "\n",
       "    .dataframe tbody tr th {\n",
       "        vertical-align: top;\n",
       "    }\n",
       "\n",
       "    .dataframe thead th {\n",
       "        text-align: right;\n",
       "    }\n",
       "</style>\n",
       "<table border=\"1\" class=\"dataframe\">\n",
       "  <thead>\n",
       "    <tr style=\"text-align: right;\">\n",
       "      <th></th>\n",
       "      <th>Name</th>\n",
       "      <th>Marks</th>\n",
       "      <th>Roll No.</th>\n",
       "    </tr>\n",
       "  </thead>\n",
       "  <tbody>\n",
       "    <tr>\n",
       "      <th>0</th>\n",
       "      <td>Rihan</td>\n",
       "      <td>70</td>\n",
       "      <td>1233</td>\n",
       "    </tr>\n",
       "    <tr>\n",
       "      <th>1</th>\n",
       "      <td>Wasi</td>\n",
       "      <td>34</td>\n",
       "      <td>1245</td>\n",
       "    </tr>\n",
       "  </tbody>\n",
       "</table>\n",
       "</div>"
      ],
      "text/plain": [
       "    Name  Marks  Roll No.\n",
       "0  Rihan     70      1233\n",
       "1   Wasi     34      1245"
      ]
     },
     "execution_count": 73,
     "metadata": {},
     "output_type": "execute_result"
    }
   ],
   "source": [
    "pd.merge(df3, df4, on=\"Name\")"
   ]
  },
  {
   "cell_type": "code",
   "execution_count": null,
   "id": "0be4a937-1c70-4d80-ae8c-71aaed39919f",
   "metadata": {},
   "outputs": [],
   "source": []
  }
 ],
 "metadata": {
  "kernelspec": {
   "display_name": "Python 3 (ipykernel)",
   "language": "python",
   "name": "python3"
  },
  "language_info": {
   "codemirror_mode": {
    "name": "ipython",
    "version": 3
   },
   "file_extension": ".py",
   "mimetype": "text/x-python",
   "name": "python",
   "nbconvert_exporter": "python",
   "pygments_lexer": "ipython3",
   "version": "3.13.1"
  }
 },
 "nbformat": 4,
 "nbformat_minor": 5
}
